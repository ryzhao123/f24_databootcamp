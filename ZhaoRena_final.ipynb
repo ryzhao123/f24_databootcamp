{
 "cells": [
  {
   "cell_type": "markdown",
   "metadata": {},
   "source": [
    "# CitiBike Type Prediction"
   ]
  },
  {
   "cell_type": "markdown",
   "metadata": {},
   "source": [
    "## Introduction to Problem & Data"
   ]
  },
  {
   "cell_type": "markdown",
   "metadata": {},
   "source": [
    "#### Problem Statement:\n",
    "\n",
    "CitiBike’s bike-sharing data offers valuable insights into how users use its bike-sharing service, particularly their choices between classic and electric bikes. The goal of this project is to develop a predictive model that can identify which type of bike a user is likely to choose based on trip characteristics, such as ride duration, ride distance, time of day, and user type (member or non-member). By leveraging these features, this project aims to uncover patterns that influence bike selection and can provide actionable insights for CitiBike to improve its operations. Successfully developing a classification model could enable CitiBike to improve management and operational efficiency. CitiBike can optimize bike distribution and make improvements on its membership offerings. Additionally, understanding these trends can enhance user satisfaction by reducing wait times and better meet customer bike preferences. Furthermore, these insights gained may help inform future strategies for bike-sharing systems in other cities.\n"
   ]
  },
  {
   "cell_type": "markdown",
   "metadata": {},
   "source": [
    "#### Dataset Description:\n",
    "\n",
    "Data for this project is sourced from CitiBike’s publicly available system data, accessed in csv format from their website. It provides comprehensive information about bike-sharing trips, including ride type, ride duration, distance, start and end locations (coordinates), and user type. The dataset will require some cleaning since the original csv contains about 1 million lines and some null values. There may be challenges in building an accurate classification model due to the range of factors not in the dataset influencing bike type selection, such as user preferences and trip characteristics. However, I believe that certain predictive variables provided in the data, like ride duration, distance, member type, and time of day, will help determine the type of bike chosen. \n"
   ]
  },
  {
   "cell_type": "markdown",
   "metadata": {},
   "source": [
    "#### Data Pre-Processing & Preliminary Examination:"
   ]
  },
  {
   "cell_type": "code",
   "execution_count": 46,
   "metadata": {},
   "outputs": [],
   "source": [
    "import pandas as pd\n",
    "import numpy as np\n",
    "import matplotlib.pyplot as plt\n",
    "import seaborn as sns"
   ]
  },
  {
   "cell_type": "code",
   "execution_count": 47,
   "metadata": {},
   "outputs": [
    {
     "data": {
      "text/plain": [
       "\"\\ndf = pd.read_csv('202305-citibike-tripdata_1.csv')\\nsample_df = df.sample(n=10000, random_state=10)\\nsample_df.to_csv('202305-citibike-tripdata_1_sampled.csv', index=False)\\n\""
      ]
     },
     "execution_count": 47,
     "metadata": {},
     "output_type": "execute_result"
    }
   ],
   "source": [
    "# This is a one-time run I did to cut down the size of the dataset. The original is 1 million lines\n",
    "# Load original data, take 10000 random rows and save down as new csv for project to work with\n",
    "'''\n",
    "df = pd.read_csv('202305-citibike-tripdata_1.csv')\n",
    "sample_df = df.sample(n=10000, random_state=10)\n",
    "sample_df.to_csv('202305-citibike-tripdata_1_sampled.csv', index=False)\n",
    "'''"
   ]
  },
  {
   "cell_type": "code",
   "execution_count": 48,
   "metadata": {},
   "outputs": [
    {
     "data": {
      "text/html": [
       "<div>\n",
       "<style scoped>\n",
       "    .dataframe tbody tr th:only-of-type {\n",
       "        vertical-align: middle;\n",
       "    }\n",
       "\n",
       "    .dataframe tbody tr th {\n",
       "        vertical-align: top;\n",
       "    }\n",
       "\n",
       "    .dataframe thead th {\n",
       "        text-align: right;\n",
       "    }\n",
       "</style>\n",
       "<table border=\"1\" class=\"dataframe\">\n",
       "  <thead>\n",
       "    <tr style=\"text-align: right;\">\n",
       "      <th></th>\n",
       "      <th>ride_id</th>\n",
       "      <th>rideable_type</th>\n",
       "      <th>started_at</th>\n",
       "      <th>ended_at</th>\n",
       "      <th>start_station_name</th>\n",
       "      <th>start_station_id</th>\n",
       "      <th>end_station_name</th>\n",
       "      <th>end_station_id</th>\n",
       "      <th>start_lat</th>\n",
       "      <th>start_lng</th>\n",
       "      <th>end_lat</th>\n",
       "      <th>end_lng</th>\n",
       "      <th>member_casual</th>\n",
       "    </tr>\n",
       "  </thead>\n",
       "  <tbody>\n",
       "    <tr>\n",
       "      <th>0</th>\n",
       "      <td>C12843EC95E5C691</td>\n",
       "      <td>classic_bike</td>\n",
       "      <td>2023-05-08 19:31:49.131</td>\n",
       "      <td>2023-05-08 19:39:03.486</td>\n",
       "      <td>W 16 St &amp; The High Line</td>\n",
       "      <td>6233.05</td>\n",
       "      <td>E 16 St &amp; 5 Ave</td>\n",
       "      <td>6022.04</td>\n",
       "      <td>40.743349</td>\n",
       "      <td>-74.006818</td>\n",
       "      <td>40.737262</td>\n",
       "      <td>-73.992390</td>\n",
       "      <td>member</td>\n",
       "    </tr>\n",
       "    <tr>\n",
       "      <th>1</th>\n",
       "      <td>C80D9923FA7AFB94</td>\n",
       "      <td>electric_bike</td>\n",
       "      <td>2023-05-02 17:12:52.102</td>\n",
       "      <td>2023-05-02 17:14:03.851</td>\n",
       "      <td>5 Ave &amp; E 87 St</td>\n",
       "      <td>7323.09</td>\n",
       "      <td>5 Ave &amp; E 87 St</td>\n",
       "      <td>7323.09</td>\n",
       "      <td>40.782323</td>\n",
       "      <td>-73.959875</td>\n",
       "      <td>40.782323</td>\n",
       "      <td>-73.959875</td>\n",
       "      <td>member</td>\n",
       "    </tr>\n",
       "    <tr>\n",
       "      <th>2</th>\n",
       "      <td>393A4F003972434C</td>\n",
       "      <td>classic_bike</td>\n",
       "      <td>2023-05-22 23:00:49.204</td>\n",
       "      <td>2023-05-22 23:06:00.554</td>\n",
       "      <td>W 15 St &amp; 6 Ave</td>\n",
       "      <td>5989.02</td>\n",
       "      <td>Washington St &amp; Gansevoort St</td>\n",
       "      <td>6039.06</td>\n",
       "      <td>40.738046</td>\n",
       "      <td>-73.996430</td>\n",
       "      <td>40.739323</td>\n",
       "      <td>-74.008119</td>\n",
       "      <td>member</td>\n",
       "    </tr>\n",
       "    <tr>\n",
       "      <th>3</th>\n",
       "      <td>66E9B11A01A18958</td>\n",
       "      <td>electric_bike</td>\n",
       "      <td>2023-05-08 15:31:04.387</td>\n",
       "      <td>2023-05-08 16:13:58.040</td>\n",
       "      <td>Walton Ave &amp; E 176 St</td>\n",
       "      <td>8362.02</td>\n",
       "      <td>Grand Concourse &amp; E 156 St</td>\n",
       "      <td>7984.04</td>\n",
       "      <td>40.848452</td>\n",
       "      <td>-73.909654</td>\n",
       "      <td>40.823429</td>\n",
       "      <td>-73.924689</td>\n",
       "      <td>member</td>\n",
       "    </tr>\n",
       "    <tr>\n",
       "      <th>4</th>\n",
       "      <td>D9534B4DA6192C49</td>\n",
       "      <td>electric_bike</td>\n",
       "      <td>2023-05-19 11:41:52.108</td>\n",
       "      <td>2023-05-19 11:56:28.154</td>\n",
       "      <td>Schermerhorn St &amp; Court St</td>\n",
       "      <td>4565.07</td>\n",
       "      <td>Allen St &amp; Rivington St</td>\n",
       "      <td>5414.06</td>\n",
       "      <td>40.691036</td>\n",
       "      <td>-73.992011</td>\n",
       "      <td>40.720196</td>\n",
       "      <td>-73.989978</td>\n",
       "      <td>member</td>\n",
       "    </tr>\n",
       "  </tbody>\n",
       "</table>\n",
       "</div>"
      ],
      "text/plain": [
       "            ride_id  rideable_type               started_at  \\\n",
       "0  C12843EC95E5C691   classic_bike  2023-05-08 19:31:49.131   \n",
       "1  C80D9923FA7AFB94  electric_bike  2023-05-02 17:12:52.102   \n",
       "2  393A4F003972434C   classic_bike  2023-05-22 23:00:49.204   \n",
       "3  66E9B11A01A18958  electric_bike  2023-05-08 15:31:04.387   \n",
       "4  D9534B4DA6192C49  electric_bike  2023-05-19 11:41:52.108   \n",
       "\n",
       "                  ended_at          start_station_name  start_station_id  \\\n",
       "0  2023-05-08 19:39:03.486     W 16 St & The High Line           6233.05   \n",
       "1  2023-05-02 17:14:03.851             5 Ave & E 87 St           7323.09   \n",
       "2  2023-05-22 23:06:00.554             W 15 St & 6 Ave           5989.02   \n",
       "3  2023-05-08 16:13:58.040       Walton Ave & E 176 St           8362.02   \n",
       "4  2023-05-19 11:56:28.154  Schermerhorn St & Court St           4565.07   \n",
       "\n",
       "                end_station_name end_station_id  start_lat  start_lng  \\\n",
       "0                E 16 St & 5 Ave        6022.04  40.743349 -74.006818   \n",
       "1                5 Ave & E 87 St        7323.09  40.782323 -73.959875   \n",
       "2  Washington St & Gansevoort St        6039.06  40.738046 -73.996430   \n",
       "3     Grand Concourse & E 156 St        7984.04  40.848452 -73.909654   \n",
       "4        Allen St & Rivington St        5414.06  40.691036 -73.992011   \n",
       "\n",
       "     end_lat    end_lng member_casual  \n",
       "0  40.737262 -73.992390        member  \n",
       "1  40.782323 -73.959875        member  \n",
       "2  40.739323 -74.008119        member  \n",
       "3  40.823429 -73.924689        member  \n",
       "4  40.720196 -73.989978        member  "
      ]
     },
     "execution_count": 48,
     "metadata": {},
     "output_type": "execute_result"
    }
   ],
   "source": [
    "# Start Here\n",
    "\n",
    "# Load dataset\n",
    "df = pd.read_csv('202305-citibike-tripdata_1_sampled.csv')\n",
    "df.head()"
   ]
  },
  {
   "cell_type": "code",
   "execution_count": 49,
   "metadata": {},
   "outputs": [
    {
     "name": "stdout",
     "output_type": "stream",
     "text": [
      "<class 'pandas.core.frame.DataFrame'>\n",
      "RangeIndex: 10000 entries, 0 to 9999\n",
      "Data columns (total 13 columns):\n",
      " #   Column              Non-Null Count  Dtype  \n",
      "---  ------              --------------  -----  \n",
      " 0   ride_id             10000 non-null  object \n",
      " 1   rideable_type       10000 non-null  object \n",
      " 2   started_at          10000 non-null  object \n",
      " 3   ended_at            10000 non-null  object \n",
      " 4   start_station_name  9991 non-null   object \n",
      " 5   start_station_id    9991 non-null   float64\n",
      " 6   end_station_name    9922 non-null   object \n",
      " 7   end_station_id      9922 non-null   object \n",
      " 8   start_lat           10000 non-null  float64\n",
      " 9   start_lng           10000 non-null  float64\n",
      " 10  end_lat             9974 non-null   float64\n",
      " 11  end_lng             9974 non-null   float64\n",
      " 12  member_casual       10000 non-null  object \n",
      "dtypes: float64(5), object(8)\n",
      "memory usage: 1015.8+ KB\n"
     ]
    }
   ],
   "source": [
    "df.info()"
   ]
  },
  {
   "cell_type": "code",
   "execution_count": 50,
   "metadata": {},
   "outputs": [],
   "source": [
    "# Create a column for ride duration by subtracting started_at from ended_at\n",
    "df['started_at'] = pd.to_datetime(df['started_at'])\n",
    "df['ended_at'] = pd.to_datetime(df['ended_at'])\n",
    "df['ride_minutes'] = (df['ended_at'] - df['started_at']\n",
    "                      ).dt.total_seconds() / 60"
   ]
  },
  {
   "cell_type": "code",
   "execution_count": 51,
   "metadata": {},
   "outputs": [],
   "source": [
    "# Create a column for ride time of day by categorizing started_at\n",
    "def categorize_time(hour):\n",
    "    if 0 <= hour < 6:\n",
    "        return 'night'\n",
    "    elif 6 <= hour < 10:\n",
    "        return 'morning'\n",
    "    elif 12 <= hour < 18:\n",
    "        return 'afternoon'\n",
    "    else:\n",
    "        return 'evening'\n",
    "\n",
    "\n",
    "df['tod'] = df['started_at'].dt.hour.apply(categorize_time)"
   ]
  },
  {
   "cell_type": "code",
   "execution_count": 52,
   "metadata": {},
   "outputs": [
    {
     "name": "stdout",
     "output_type": "stream",
     "text": [
      "Requirement already satisfied: geopy in /opt/anaconda3/lib/python3.12/site-packages (2.4.1)\n",
      "Requirement already satisfied: geographiclib<3,>=1.52 in /opt/anaconda3/lib/python3.12/site-packages (from geopy) (2.0)\n"
     ]
    }
   ],
   "source": [
    "!pip install geopy"
   ]
  },
  {
   "cell_type": "code",
   "execution_count": 53,
   "metadata": {},
   "outputs": [],
   "source": [
    "# Create a column for ride distance in miles using start/end lat/long\n",
    "from geopy.distance import geodesic\n",
    "\n",
    "df = df.dropna()\n",
    "\n",
    "\n",
    "def calculate_distance(row):\n",
    "    start_coords = (row['start_lat'], row['start_lng'])\n",
    "    end_coords = (row['end_lat'], row['end_lng'])\n",
    "    return geodesic(start_coords, end_coords).miles\n",
    "\n",
    "\n",
    "df['ride_miles'] = df.apply(calculate_distance, axis=1)\n",
    "df = df[df['ride_miles'] > 0]"
   ]
  },
  {
   "cell_type": "code",
   "execution_count": 54,
   "metadata": {},
   "outputs": [
    {
     "data": {
      "text/html": [
       "<div>\n",
       "<style scoped>\n",
       "    .dataframe tbody tr th:only-of-type {\n",
       "        vertical-align: middle;\n",
       "    }\n",
       "\n",
       "    .dataframe tbody tr th {\n",
       "        vertical-align: top;\n",
       "    }\n",
       "\n",
       "    .dataframe thead th {\n",
       "        text-align: right;\n",
       "    }\n",
       "</style>\n",
       "<table border=\"1\" class=\"dataframe\">\n",
       "  <thead>\n",
       "    <tr style=\"text-align: right;\">\n",
       "      <th></th>\n",
       "      <th>rideable_type</th>\n",
       "      <th>member_casual</th>\n",
       "      <th>ride_minutes</th>\n",
       "      <th>tod</th>\n",
       "      <th>ride_miles</th>\n",
       "    </tr>\n",
       "  </thead>\n",
       "  <tbody>\n",
       "    <tr>\n",
       "      <th>0</th>\n",
       "      <td>classic_bike</td>\n",
       "      <td>member</td>\n",
       "      <td>7.239250</td>\n",
       "      <td>evening</td>\n",
       "      <td>0.865933</td>\n",
       "    </tr>\n",
       "    <tr>\n",
       "      <th>2</th>\n",
       "      <td>classic_bike</td>\n",
       "      <td>member</td>\n",
       "      <td>5.189167</td>\n",
       "      <td>evening</td>\n",
       "      <td>0.619814</td>\n",
       "    </tr>\n",
       "    <tr>\n",
       "      <th>3</th>\n",
       "      <td>electric_bike</td>\n",
       "      <td>member</td>\n",
       "      <td>42.894217</td>\n",
       "      <td>afternoon</td>\n",
       "      <td>1.897988</td>\n",
       "    </tr>\n",
       "    <tr>\n",
       "      <th>4</th>\n",
       "      <td>electric_bike</td>\n",
       "      <td>member</td>\n",
       "      <td>14.600767</td>\n",
       "      <td>evening</td>\n",
       "      <td>2.014889</td>\n",
       "    </tr>\n",
       "    <tr>\n",
       "      <th>5</th>\n",
       "      <td>classic_bike</td>\n",
       "      <td>member</td>\n",
       "      <td>8.864317</td>\n",
       "      <td>afternoon</td>\n",
       "      <td>0.964408</td>\n",
       "    </tr>\n",
       "  </tbody>\n",
       "</table>\n",
       "</div>"
      ],
      "text/plain": [
       "   rideable_type member_casual  ride_minutes        tod  ride_miles\n",
       "0   classic_bike        member      7.239250    evening    0.865933\n",
       "2   classic_bike        member      5.189167    evening    0.619814\n",
       "3  electric_bike        member     42.894217  afternoon    1.897988\n",
       "4  electric_bike        member     14.600767    evening    2.014889\n",
       "5   classic_bike        member      8.864317  afternoon    0.964408"
      ]
     },
     "execution_count": 54,
     "metadata": {},
     "output_type": "execute_result"
    }
   ],
   "source": [
    "# Drop columns we will not be using\n",
    "keep = ['rideable_type', 'member_casual', 'ride_minutes', 'ride_miles', 'tod']\n",
    "df = df.drop(columns=[col for col in df.columns if col not in keep])\n",
    "df.head()"
   ]
  },
  {
   "cell_type": "code",
   "execution_count": 55,
   "metadata": {},
   "outputs": [
    {
     "name": "stdout",
     "output_type": "stream",
     "text": [
      "<class 'pandas.core.frame.DataFrame'>\n",
      "Index: 9707 entries, 0 to 9999\n",
      "Data columns (total 5 columns):\n",
      " #   Column         Non-Null Count  Dtype  \n",
      "---  ------         --------------  -----  \n",
      " 0   rideable_type  9707 non-null   object \n",
      " 1   member_casual  9707 non-null   object \n",
      " 2   ride_minutes   9707 non-null   float64\n",
      " 3   tod            9707 non-null   object \n",
      " 4   ride_miles     9707 non-null   float64\n",
      "dtypes: float64(2), object(3)\n",
      "memory usage: 455.0+ KB\n"
     ]
    }
   ],
   "source": [
    "df.info()"
   ]
  },
  {
   "cell_type": "code",
   "execution_count": 56,
   "metadata": {},
   "outputs": [
    {
     "data": {
      "text/plain": [
       "count    9707.000000\n",
       "mean       14.743512\n",
       "std        24.012335\n",
       "min         1.006117\n",
       "25%         5.553658\n",
       "50%        10.001100\n",
       "75%        17.923467\n",
       "max       976.924817\n",
       "Name: ride_minutes, dtype: float64"
      ]
     },
     "execution_count": 56,
     "metadata": {},
     "output_type": "execute_result"
    }
   ],
   "source": [
    "df['ride_minutes'].describe()"
   ]
  },
  {
   "cell_type": "code",
   "execution_count": 57,
   "metadata": {},
   "outputs": [],
   "source": [
    "# There seem to be some outliers in ride_minutes so let's cap it at 3hrs\n",
    "df = df[df['ride_minutes'] < 180]"
   ]
  },
  {
   "cell_type": "code",
   "execution_count": 58,
   "metadata": {},
   "outputs": [
    {
     "data": {
      "text/plain": [
       "count    9691.000000\n",
       "mean       14.068484\n",
       "std        13.545929\n",
       "min         1.006117\n",
       "25%         5.547000\n",
       "50%         9.992083\n",
       "75%        17.834633\n",
       "max       174.071400\n",
       "Name: ride_minutes, dtype: float64"
      ]
     },
     "execution_count": 58,
     "metadata": {},
     "output_type": "execute_result"
    }
   ],
   "source": [
    "df['ride_minutes'].describe()"
   ]
  },
  {
   "cell_type": "code",
   "execution_count": 59,
   "metadata": {},
   "outputs": [
    {
     "data": {
      "text/plain": [
       "count    9691.000000\n",
       "mean        1.224770\n",
       "std         1.091133\n",
       "min         0.000750\n",
       "25%         0.503846\n",
       "50%         0.903987\n",
       "75%         1.590723\n",
       "max        12.108184\n",
       "Name: ride_miles, dtype: float64"
      ]
     },
     "execution_count": 59,
     "metadata": {},
     "output_type": "execute_result"
    }
   ],
   "source": [
    "df['ride_miles'].describe()"
   ]
  },
  {
   "cell_type": "code",
   "execution_count": 60,
   "metadata": {},
   "outputs": [
    {
     "data": {
      "text/plain": [
       "member_casual\n",
       "member    7796\n",
       "casual    1895\n",
       "Name: count, dtype: int64"
      ]
     },
     "execution_count": 60,
     "metadata": {},
     "output_type": "execute_result"
    }
   ],
   "source": [
    "df['member_casual'].value_counts()"
   ]
  },
  {
   "cell_type": "code",
   "execution_count": 61,
   "metadata": {},
   "outputs": [
    {
     "data": {
      "text/plain": [
       "tod\n",
       "afternoon    3982\n",
       "evening      3751\n",
       "morning      1581\n",
       "night         377\n",
       "Name: count, dtype: int64"
      ]
     },
     "execution_count": 61,
     "metadata": {},
     "output_type": "execute_result"
    }
   ],
   "source": [
    "df['tod'].value_counts()"
   ]
  },
  {
   "cell_type": "code",
   "execution_count": 62,
   "metadata": {},
   "outputs": [
    {
     "name": "stdout",
     "output_type": "stream",
     "text": [
      "<class 'pandas.core.frame.DataFrame'>\n",
      "Index: 9691 entries, 0 to 9999\n",
      "Data columns (total 5 columns):\n",
      " #   Column         Non-Null Count  Dtype  \n",
      "---  ------         --------------  -----  \n",
      " 0   rideable_type  9691 non-null   object \n",
      " 1   member_casual  9691 non-null   object \n",
      " 2   ride_minutes   9691 non-null   float64\n",
      " 3   tod            9691 non-null   object \n",
      " 4   ride_miles     9691 non-null   float64\n",
      "dtypes: float64(2), object(3)\n",
      "memory usage: 454.3+ KB\n"
     ]
    }
   ],
   "source": [
    "df.info()"
   ]
  },
  {
   "cell_type": "markdown",
   "metadata": {},
   "source": [
    "The revised dataset that I'll be working with contains 9691 data points on CitiBike rides in May 2023. The rides range from 1 minute to 174 minutes, and are on average 1.22 miles long."
   ]
  },
  {
   "cell_type": "markdown",
   "metadata": {},
   "source": [
    "## Exploratory Data Analysis"
   ]
  },
  {
   "cell_type": "code",
   "execution_count": 63,
   "metadata": {},
   "outputs": [
    {
     "data": {
      "text/html": [
       "<div>\n",
       "<style scoped>\n",
       "    .dataframe tbody tr th:only-of-type {\n",
       "        vertical-align: middle;\n",
       "    }\n",
       "\n",
       "    .dataframe tbody tr th {\n",
       "        vertical-align: top;\n",
       "    }\n",
       "\n",
       "    .dataframe thead th {\n",
       "        text-align: right;\n",
       "    }\n",
       "</style>\n",
       "<table border=\"1\" class=\"dataframe\">\n",
       "  <thead>\n",
       "    <tr style=\"text-align: right;\">\n",
       "      <th></th>\n",
       "      <th>rideable_type</th>\n",
       "      <th>member_casual</th>\n",
       "      <th>ride_minutes</th>\n",
       "      <th>tod</th>\n",
       "      <th>ride_miles</th>\n",
       "    </tr>\n",
       "  </thead>\n",
       "  <tbody>\n",
       "    <tr>\n",
       "      <th>0</th>\n",
       "      <td>classic_bike</td>\n",
       "      <td>member</td>\n",
       "      <td>7.239250</td>\n",
       "      <td>evening</td>\n",
       "      <td>0.865933</td>\n",
       "    </tr>\n",
       "    <tr>\n",
       "      <th>2</th>\n",
       "      <td>classic_bike</td>\n",
       "      <td>member</td>\n",
       "      <td>5.189167</td>\n",
       "      <td>evening</td>\n",
       "      <td>0.619814</td>\n",
       "    </tr>\n",
       "    <tr>\n",
       "      <th>3</th>\n",
       "      <td>electric_bike</td>\n",
       "      <td>member</td>\n",
       "      <td>42.894217</td>\n",
       "      <td>afternoon</td>\n",
       "      <td>1.897988</td>\n",
       "    </tr>\n",
       "    <tr>\n",
       "      <th>4</th>\n",
       "      <td>electric_bike</td>\n",
       "      <td>member</td>\n",
       "      <td>14.600767</td>\n",
       "      <td>evening</td>\n",
       "      <td>2.014889</td>\n",
       "    </tr>\n",
       "    <tr>\n",
       "      <th>5</th>\n",
       "      <td>classic_bike</td>\n",
       "      <td>member</td>\n",
       "      <td>8.864317</td>\n",
       "      <td>afternoon</td>\n",
       "      <td>0.964408</td>\n",
       "    </tr>\n",
       "  </tbody>\n",
       "</table>\n",
       "</div>"
      ],
      "text/plain": [
       "   rideable_type member_casual  ride_minutes        tod  ride_miles\n",
       "0   classic_bike        member      7.239250    evening    0.865933\n",
       "2   classic_bike        member      5.189167    evening    0.619814\n",
       "3  electric_bike        member     42.894217  afternoon    1.897988\n",
       "4  electric_bike        member     14.600767    evening    2.014889\n",
       "5   classic_bike        member      8.864317  afternoon    0.964408"
      ]
     },
     "execution_count": 63,
     "metadata": {},
     "output_type": "execute_result"
    }
   ],
   "source": [
    "df.head()"
   ]
  },
  {
   "cell_type": "markdown",
   "metadata": {},
   "source": [
    "#### Descriptive Statistics"
   ]
  },
  {
   "cell_type": "code",
   "execution_count": 64,
   "metadata": {},
   "outputs": [
    {
     "data": {
      "image/png": "[encoded data removed]",
      "text/plain": [
       "<Figure size 640x480 with 1 Axes>"
      ]
     },
     "metadata": {},
     "output_type": "display_data"
    }
   ],
   "source": [
    "df['rideable_type'].value_counts().plot(kind='bar')\n",
    "plt.xticks(rotation=0)\n",
    "plt.show()"
   ]
  },
  {
   "cell_type": "markdown",
   "metadata": {},
   "source": [
    "There are more classic bikes in this dataset (even after randomly sampled), potentially because of the higher price of using ebikes."
   ]
  },
  {
   "cell_type": "markdown",
   "metadata": {},
   "source": [
    "#### Initial Visualizations"
   ]
  },
  {
   "cell_type": "code",
   "execution_count": 65,
   "metadata": {},
   "outputs": [
    {
     "data": {
      "image/png": "[encoded data removed]",
      "text/plain": [
       "<Figure size 640x480 with 1 Axes>"
      ]
     },
     "metadata": {},
     "output_type": "display_data"
    }
   ],
   "source": [
    "# Plot ride_minutes grouped by rideable_type\n",
    "df.boxplot(column='ride_minutes', by='rideable_type',\n",
    "           grid=False, showfliers=False)\n",
    "plt.show()"
   ]
  },
  {
   "cell_type": "markdown",
   "metadata": {},
   "source": [
    "This boxplot shows the distribution of ride minutes grouped by bike type. Both bike types have similar ranges for ride durations, but the median ride time for ebikes is slightly higher than for classic bikes. Additionally, ebikes have a slightly wider IQR for ride times.\n",
    "\n",
    "\n",
    "\n",
    "\n",
    "\n",
    "\n"
   ]
  },
  {
   "cell_type": "code",
   "execution_count": 66,
   "metadata": {},
   "outputs": [
    {
     "data": {
      "image/png": "[encoded data removed]",
      "text/plain": [
       "<Figure size 640x480 with 1 Axes>"
      ]
     },
     "metadata": {},
     "output_type": "display_data"
    }
   ],
   "source": [
    "# Plot ride_miles grouped by rideable_type\n",
    "df.boxplot(column='ride_miles', by='rideable_type',\n",
    "           grid=False, showfliers=False)\n",
    "plt.show()"
   ]
  },
  {
   "cell_type": "markdown",
   "metadata": {},
   "source": [
    "Electric bikes generally have longer rides (both in terms of median and range), which might suggest they are chosen for longer distances. Classic bikes have shorter and more consistent ride distances."
   ]
  },
  {
   "cell_type": "code",
   "execution_count": 67,
   "metadata": {},
   "outputs": [
    {
     "data": {
      "text/plain": [
       "0    60.580475\n",
       "1    39.419525\n",
       "2    58.889174\n",
       "3    41.110826\n",
       "Name: percent, dtype: float64"
      ]
     },
     "metadata": {},
     "output_type": "display_data"
    },
    {
     "data": {
      "image/png": "[encoded data removed]",
      "text/plain": [
       "<Figure size 640x480 with 1 Axes>"
      ]
     },
     "metadata": {},
     "output_type": "display_data"
    }
   ],
   "source": [
    "# Plot percentage of bike type within each membership type\n",
    "member_bike_counts = df.groupby(\n",
    "    [\"member_casual\", \"rideable_type\"]).size().reset_index(name=\"count\")\n",
    "total_counts = member_bike_counts.groupby(\n",
    "    \"member_casual\")[\"count\"].transform(\"sum\")\n",
    "member_bike_counts[\"percent\"] = 100 * \\\n",
    "    member_bike_counts[\"count\"] / total_counts\n",
    "display(member_bike_counts[\"percent\"])\n",
    "\n",
    "sns.barplot(data=member_bike_counts, x=\"member_casual\",\n",
    "            y=\"percent\", hue=\"rideable_type\")\n",
    "plt.title(\"Percentage of Bike Type Usage by Membership Type\")\n",
    "plt.ylabel(\"Percentage (%)\")\n",
    "plt.xlabel(\"Membership Type\")\n",
    "plt.show()"
   ]
  },
  {
   "cell_type": "markdown",
   "metadata": {},
   "source": [
    "The chart displays the percentage of bike types used within each membership category. Among casual users, 60.6% use classic bikes, while 39.4% prefer ebikes. For members, the distribution is closer, with 58.9% using classic bikes and 41.1% using ebikes. This indicates that while both user groups show a preference for classic bikes, members have a slightly higher tendency to use ebikes compared to casual users."
   ]
  },
  {
   "cell_type": "code",
   "execution_count": 68,
   "metadata": {},
   "outputs": [
    {
     "data": {
      "image/png": "[encoded data removed]",
      "text/plain": [
       "<Figure size 640x480 with 1 Axes>"
      ]
     },
     "metadata": {},
     "output_type": "display_data"
    }
   ],
   "source": [
    "# Plot percentage of bike type within each time of day\n",
    "tod_type_counts = df.groupby(\n",
    "    [\"rideable_type\", \"tod\"]).size().reset_index(name=\"count\")\n",
    "total_counts = tod_type_counts.groupby(\n",
    "    \"rideable_type\")[\"count\"].transform(\"sum\")\n",
    "tod_type_counts[\"percent\"] = 100 * tod_type_counts[\"count\"] / total_counts\n",
    "\n",
    "sns.barplot(data=tod_type_counts, x=\"tod\", y=\"percent\", hue=\"rideable_type\")\n",
    "plt.title(\"Percentage of Each Bike Type by Time of Day\")\n",
    "plt.ylabel(\"Percentage (%)\")\n",
    "plt.xlabel(\"Time of Day\")\n",
    "plt.show()"
   ]
  },
  {
   "cell_type": "markdown",
   "metadata": {},
   "source": [
    "The distribution between the bike types in the evening is about even. There is slight preference for classic bikes in the morning and afternoons, and vice versa at night. We also see that most rides are taken in the afternoon and evening, while far fewer are in the morning and night."
   ]
  },
  {
   "cell_type": "markdown",
   "metadata": {},
   "source": [
    "To summarize, it seems like miles ridden may provide us with the most information on predicting which bike type is chosen. Time of day may also provide some insights, while distance and membership type may provide the least information."
   ]
  },
  {
   "cell_type": "markdown",
   "metadata": {},
   "source": [
    "## Modeling & Interpretations"
   ]
  },
  {
   "cell_type": "markdown",
   "metadata": {},
   "source": [
    "To predict type of bike, I am planning on using multiple different classification models to see which performs the best in predicting the bike type chosen. For each of these models, I will use a 80-20 train-test split."
   ]
  },
  {
   "cell_type": "code",
   "execution_count": 69,
   "metadata": {},
   "outputs": [],
   "source": [
    "from sklearn.model_selection import train_test_split, cross_val_score\n",
    "from sklearn.preprocessing import StandardScaler, OneHotEncoder\n",
    "from sklearn.compose import make_column_transformer\n",
    "from sklearn.pipeline import Pipeline\n",
    "from sklearn.linear_model import LogisticRegression\n",
    "from sklearn.neighbors import KNeighborsClassifier\n",
    "from sklearn.tree import DecisionTreeClassifier\n",
    "from sklearn.ensemble import RandomForestClassifier\n",
    "from sklearn.metrics import ConfusionMatrixDisplay, precision_score, classification_report\n",
    "from sklearn.discriminant_analysis import LinearDiscriminantAnalysis\n",
    "from sklearn.model_selection import GridSearchCV\n",
    "from imblearn.over_sampling import SMOTE\n",
    "from imblearn.pipeline import Pipeline as ImbPipeline"
   ]
  },
  {
   "cell_type": "markdown",
   "metadata": {},
   "source": [
    "#### Logistic Regression Model"
   ]
  },
  {
   "cell_type": "markdown",
   "metadata": {},
   "source": [
    "Starting with the Logistic Regression Model, I chose this model as a \"baseline\" since it is a simple and reliable method for classification problems. It helps show how each feature influences the prediction, making it easy to understand the results. Logistic regression works well when the data is straightforward and there are clear relationships between variables and the target."
   ]
  },
  {
   "cell_type": "code",
   "execution_count": 70,
   "metadata": {},
   "outputs": [],
   "source": [
    "# Create X and Y\n",
    "X = df.iloc[:, 1:]\n",
    "y = df['rideable_type']\n",
    "\n",
    "# Split into train and testing data\n",
    "X_train, X_test, y_train, y_test = train_test_split(\n",
    "    X, y, test_size=0.2, random_state=11)\n",
    "\n",
    "# Define categorical and numerical columns\n",
    "cat_cols = ['member_casual', 'tod']\n",
    "num_cols = ['ride_minutes', 'ride_miles']\n",
    "\n",
    "# Make column transformer and encode\n",
    "ohe = OneHotEncoder(drop='first', sparse_output=False)\n",
    "sscaler = StandardScaler()\n",
    "transformer = make_column_transformer(\n",
    "    (ohe, cat_cols), (sscaler, num_cols), remainder='passthrough')"
   ]
  },
  {
   "cell_type": "code",
   "execution_count": 71,
   "metadata": {},
   "outputs": [
    {
     "data": {
      "text/plain": [
       "<sklearn.metrics._plot.confusion_matrix.ConfusionMatrixDisplay at 0x147a5e390>"
      ]
     },
     "execution_count": 71,
     "metadata": {},
     "output_type": "execute_result"
    },
    {
     "data": {
      "image/png": "[encoded data removed]",
      "text/plain": [
       "<Figure size 640x480 with 2 Axes>"
      ]
     },
     "metadata": {},
     "output_type": "display_data"
    }
   ],
   "source": [
    "# Create pipeline\n",
    "lgr = LogisticRegression(class_weight='balanced')\n",
    "lgr_pipe = Pipeline([('transform', transformer), ('model', lgr)])\n",
    "\n",
    "# Fit pipeline\n",
    "lgr_pipe.fit(X_train, y_train)\n",
    "\n",
    "ConfusionMatrixDisplay.from_estimator(lgr_pipe, X_test, y_test)"
   ]
  },
  {
   "cell_type": "code",
   "execution_count": 72,
   "metadata": {},
   "outputs": [
    {
     "name": "stdout",
     "output_type": "stream",
     "text": [
      "Train Score: 0.6029411764705882\n",
      "Test Score: 0.6137184115523465\n",
      "Precision Score: 0.6070541233907966\n",
      "Cross-Validation Scores: [0.59445519 0.61637653 0.60709677 0.60064516 0.59612903]\n",
      "Mean Cross-Validation Accuracy: 0.602940537842391\n",
      "Classification Report:\n",
      "               precision    recall  f1-score   support\n",
      "\n",
      " classic_bike       0.65      0.72      0.68      1128\n",
      "electric_bike       0.54      0.46      0.50       811\n",
      "\n",
      "     accuracy                           0.61      1939\n",
      "    macro avg       0.60      0.59      0.59      1939\n",
      " weighted avg       0.61      0.61      0.61      1939\n",
      "\n"
     ]
    }
   ],
   "source": [
    "print(f'Train Score: {lgr_pipe.score(X_train, y_train)}')\n",
    "print(f'Test Score: {lgr_pipe.score(X_test, y_test)}')\n",
    "\n",
    "y_pred = lgr_pipe.predict(X_test)\n",
    "\n",
    "# Precision scores\n",
    "precision = precision_score(y_test, y_pred, average='weighted')\n",
    "print(f\"Precision Score: {precision}\")\n",
    "\n",
    "# Perform cross-validation\n",
    "cv_scores = cross_val_score(\n",
    "    lgr_pipe, X_train, y_train, cv=5, scoring='accuracy')\n",
    "print(f\"Cross-Validation Scores: {cv_scores}\")\n",
    "print(f\"Mean Cross-Validation Accuracy: {cv_scores.mean()}\")\n",
    "\n",
    "# Classification report\n",
    "classification = classification_report(y_test, y_pred)\n",
    "print(f\"Classification Report:\\n{classification}\")"
   ]
  },
  {
   "cell_type": "markdown",
   "metadata": {},
   "source": [
    "This output shows the performance of a logistic regression model for predicting bike type. The precision and recall results suggest that the model is better at identifying classic bikes compared to electric bikes. The model struggles with correctly classifying electric bikes, as shown by the confusion matrix. There are more electric bikes accidentally classified as classic bikes than those correctly classified, and many fewer vice versa. Overall, the test score is relatively low and we can likely find a more accurate model."
   ]
  },
  {
   "cell_type": "markdown",
   "metadata": {},
   "source": [
    "#### KNearest-Neighbors"
   ]
  },
  {
   "cell_type": "markdown",
   "metadata": {},
   "source": [
    "Next I chose to try the KNearest-Neighbors because it is simple and makes predictions based on the similarity between data points. This makes it easy to understand local patterns in the data. KNN works well when the relationship between the variables and the target may be non-linear, which I believe is the case because the relationships and interactions between variables may be more complex. KNN doesn't rely on a fixed model structure, which allows it to adapt to the dataset and identify patterns."
   ]
  },
  {
   "cell_type": "code",
   "execution_count": 73,
   "metadata": {},
   "outputs": [
    {
     "data": {
      "text/plain": [
       "({'model__n_neighbors': 15}, 0.6842098126078909, 0.666838576585869)"
      ]
     },
     "execution_count": 73,
     "metadata": {},
     "output_type": "execute_result"
    }
   ],
   "source": [
    "X = df.iloc[:, 1:]\n",
    "y = df['rideable_type']\n",
    "X_train, X_test, y_train, y_test = train_test_split(\n",
    "    X, y, test_size=0.2, random_state=11)\n",
    "\n",
    "param_grid = {'model__n_neighbors': [5, 10, 15, 20, 25]}\n",
    "\n",
    "# Define the KNN model\n",
    "knn = KNeighborsClassifier()\n",
    "\n",
    "# Create the pipeline\n",
    "knn_pipe = Pipeline([('transformer', transformer), ('model', knn)])\n",
    "\n",
    "# Define GridSearchCV\n",
    "grid = GridSearchCV(estimator=knn_pipe, param_grid=param_grid,\n",
    "                    cv=5, scoring='accuracy', refit=True)\n",
    "grid.fit(X_train, y_train)\n",
    "\n",
    "# Display the best parameters and score\n",
    "grid.best_params_, grid.best_score_, grid.best_estimator_.score(X_test, y_test)"
   ]
  },
  {
   "cell_type": "code",
   "execution_count": 74,
   "metadata": {},
   "outputs": [
    {
     "data": {
      "text/plain": [
       "<sklearn.metrics._plot.confusion_matrix.ConfusionMatrixDisplay at 0x1478cfa40>"
      ]
     },
     "execution_count": 74,
     "metadata": {},
     "output_type": "execute_result"
    },
    {
     "data": {
      "image/png": "[encoded data removed]",
      "text/plain": [
       "<Figure size 640x480 with 2 Axes>"
      ]
     },
     "metadata": {},
     "output_type": "display_data"
    }
   ],
   "source": [
    "knn2 = KNeighborsClassifier(weights='distance', n_neighbors=15)\n",
    "knn_pipe2 = Pipeline([('transform', transformer), ('model', knn2)])\n",
    "knn_pipe2.fit(X_train, y_train)\n",
    "\n",
    "ConfusionMatrixDisplay.from_estimator(knn_pipe2, X_test, y_test)"
   ]
  },
  {
   "cell_type": "code",
   "execution_count": 75,
   "metadata": {},
   "outputs": [
    {
     "name": "stdout",
     "output_type": "stream",
     "text": [
      "Train Score: 1.0\n",
      "Test Score: 0.6596183599793708\n",
      "Precision Score: 0.6541750627613074\n",
      "Cross-Validation Scores: [0.67891683 0.67633785 0.66967742 0.66       0.6683871 ]\n",
      "Mean Cross-Validation Accuracy: 0.6706638381065286\n",
      "Classification Report:\n",
      "               precision    recall  f1-score   support\n",
      "\n",
      " classic_bike       0.68      0.80      0.73      1128\n",
      "electric_bike       0.62      0.47      0.54       811\n",
      "\n",
      "     accuracy                           0.66      1939\n",
      "    macro avg       0.65      0.63      0.63      1939\n",
      " weighted avg       0.65      0.66      0.65      1939\n",
      "\n"
     ]
    }
   ],
   "source": [
    "print(f'Train Score: {knn_pipe2.score(X_train, y_train)}')\n",
    "print(f'Test Score: {knn_pipe2.score(X_test, y_test)}')\n",
    "\n",
    "y_pred = knn_pipe2.predict(X_test)\n",
    "\n",
    "precision = precision_score(y_test, y_pred, average='weighted')\n",
    "print(f\"Precision Score: {precision}\")\n",
    "\n",
    "cv_scores = cross_val_score(\n",
    "    knn_pipe2, X_train, y_train, cv=5, scoring='accuracy')\n",
    "print(f\"Cross-Validation Scores: {cv_scores}\")\n",
    "print(f\"Mean Cross-Validation Accuracy: {cv_scores.mean()}\")\n",
    "\n",
    "classification = classification_report(y_test, y_pred)\n",
    "print(f\"Classification Report:\\n{classification}\")"
   ]
  },
  {
   "cell_type": "markdown",
   "metadata": {},
   "source": [
    "The testing score in my KNN model reflects better performance than logistic regression likely because of multiple factors, such as how it can adapt better to the structure of the dataset, it an capture non-linear patterns, and also how GridSearchCV fine-tunes parameters to find the most accurate model. However, it still seems to misclassify many of the electric bikes as classic bikes, though to a slightly lesser degree. The confusion matrix shows that it correctly classifies more classic bikes than the logistic regression model does.\n"
   ]
  },
  {
   "cell_type": "markdown",
   "metadata": {},
   "source": [
    "#### Decision Tree Model"
   ]
  },
  {
   "cell_type": "markdown",
   "metadata": {},
   "source": [
    "My next model is a Decision Tree Classifier model. Similar to how KNN works, decision trees also capture non-linear relationships. Unlike with KNN, decision trees may be better with unseen relationships since it does not depend on proximity of data points and are better at splitting the data into groups. This may be good for my bike dataset since it provides clear, interpretable rules that show how features influence my target."
   ]
  },
  {
   "cell_type": "code",
   "execution_count": 76,
   "metadata": {},
   "outputs": [
    {
     "name": "stderr",
     "output_type": "stream",
     "text": [
      "/opt/anaconda3/lib/python3.12/site-packages/numpy/ma/core.py:2820: RuntimeWarning: invalid value encountered in cast\n",
      "  _data = np.array(data, dtype=dtype, copy=copy,\n"
     ]
    },
    {
     "data": {
      "text/plain": [
       "({'model__max_depth': 7}, 0.6634418585303966, 0.6575554409489428)"
      ]
     },
     "execution_count": 76,
     "metadata": {},
     "output_type": "execute_result"
    }
   ],
   "source": [
    "X = df.iloc[:, 1:]\n",
    "y = df['rideable_type']\n",
    "X_train, X_test, y_train, y_test = train_test_split(\n",
    "    X, y, test_size=0.2, random_state=11)\n",
    "\n",
    "param_grid = {'model__max_depth': range(1, 21)}\n",
    "\n",
    "# Define the tree model\n",
    "tree = DecisionTreeClassifier(class_weight='balanced')\n",
    "\n",
    "# Create the pipeline\n",
    "tree_pipe = Pipeline([('transformer', transformer), ('model', tree)])\n",
    "\n",
    "# Define GridSearchCV\n",
    "grid = GridSearchCV(estimator=tree_pipe, param_grid=param_grid,\n",
    "                    cv=5, scoring='accuracy', refit=True)\n",
    "grid.fit(X_train, y_train)\n",
    "\n",
    "# Display the best parameters and score\n",
    "grid.best_params_, grid.best_score_, grid.best_estimator_.score(X_test, y_test)"
   ]
  },
  {
   "cell_type": "code",
   "execution_count": 77,
   "metadata": {},
   "outputs": [
    {
     "data": {
      "text/plain": [
       "<sklearn.metrics._plot.confusion_matrix.ConfusionMatrixDisplay at 0x147832750>"
      ]
     },
     "execution_count": 77,
     "metadata": {},
     "output_type": "execute_result"
    },
    {
     "data": {
      "image/png": "[encoded data removed]",
      "text/plain": [
       "<Figure size 640x480 with 2 Axes>"
      ]
     },
     "metadata": {},
     "output_type": "display_data"
    }
   ],
   "source": [
    "tree2 = DecisionTreeClassifier(max_depth=7, class_weight='balanced')\n",
    "tree_pipe2 = Pipeline([('transformer', transformer), ('model', tree2)])\n",
    "tree_pipe2.fit(X_train, y_train)\n",
    "\n",
    "ConfusionMatrixDisplay.from_estimator(tree_pipe2, X_test, y_test)"
   ]
  },
  {
   "cell_type": "code",
   "execution_count": 78,
   "metadata": {},
   "outputs": [
    {
     "name": "stdout",
     "output_type": "stream",
     "text": [
      "Train Score: 0.7127192982456141\n",
      "Test Score: 0.6575554409489428\n",
      "Precision Score: 0.6533830050658963\n",
      "Cross-Validation Scores: [0.66795616 0.65764023 0.65548387 0.66967742 0.66580645]\n",
      "Mean Cross-Validation Accuracy: 0.6633128262723321\n",
      "Classification Report:\n",
      "               precision    recall  f1-score   support\n",
      "\n",
      " classic_bike       0.69      0.75      0.72      1128\n",
      "electric_bike       0.60      0.53      0.57       811\n",
      "\n",
      "     accuracy                           0.66      1939\n",
      "    macro avg       0.65      0.64      0.64      1939\n",
      " weighted avg       0.65      0.66      0.65      1939\n",
      "\n"
     ]
    }
   ],
   "source": [
    "print(f'Train Score: {tree_pipe2.score(X_train, y_train)}')\n",
    "print(f'Test Score: {tree_pipe2.score(X_test, y_test)}')\n",
    "\n",
    "y_pred = tree_pipe2.predict(X_test)\n",
    "\n",
    "precision = precision_score(y_test, y_pred, average='weighted')\n",
    "print(f\"Precision Score: {precision}\")\n",
    "\n",
    "cv_scores = cross_val_score(\n",
    "    tree_pipe2, X_train, y_train, cv=5, scoring='accuracy')\n",
    "print(f\"Cross-Validation Scores: {cv_scores}\")\n",
    "print(f\"Mean Cross-Validation Accuracy: {cv_scores.mean()}\")\n",
    "\n",
    "classification = classification_report(y_test, y_pred)\n",
    "print(f\"Classification Report:\\n{classification}\")"
   ]
  },
  {
   "cell_type": "markdown",
   "metadata": {},
   "source": [
    "The Decision Tree model has a higher precision score and mean cross-validation accuracy than both the KNN and Logistic Regression models. At a max_depth of 7 (as found through GridSearchCV), this model more correctly predicts electric bikes correctly. However, it seems to perform worse with correctly predicting classic bikes. This may be because the model focuses on optimizing overall precision and accuracy, which can cause it to focus on classifying electric bikes if it is harder to classify. The tree may be more constrained at a max depth of 7 and it cannot fully split the data into smaller, more specific groups that may accurately predict classic bikes."
   ]
  },
  {
   "cell_type": "markdown",
   "metadata": {},
   "source": [
    "#### Random Forest Classifier Model"
   ]
  },
  {
   "cell_type": "markdown",
   "metadata": {},
   "source": [
    "I chose to use a Random Forest Classifier model to potentially handle some class imbalances in my data. Similar to decision trees, random forests can capture non-linear relationships and handle both categorical and numerical data. Unlike a single decision tree, random forests combine multiple trees to reduce overfitting and improve performance on unseen data. This may be good for my bike dataset since it adds robustness to predictions and can capture more complex patterns in the features that may influence bike type chosen."
   ]
  },
  {
   "cell_type": "code",
   "execution_count": 79,
   "metadata": {},
   "outputs": [
    {
     "data": {
      "text/plain": [
       "({'model__max_depth': 10, 'model__n_estimators': 50},\n",
       " 0.6825322268671618,\n",
       " 0.6689014956162971)"
      ]
     },
     "execution_count": 79,
     "metadata": {},
     "output_type": "execute_result"
    }
   ],
   "source": [
    "X = df.iloc[:, 1:]\n",
    "y = df['rideable_type']\n",
    "X_train, X_test, y_train, y_test = train_test_split(\n",
    "    X, y, test_size=0.2, random_state=11)\n",
    "\n",
    "param_grid_rf = {'model__n_estimators': [\n",
    "    20, 50], 'model__max_depth': [10, 15, 20]}\n",
    "\n",
    "# Define the Random Forest model\n",
    "rf = RandomForestClassifier(class_weight='balanced', random_state=11)\n",
    "\n",
    "# Create the pipeline\n",
    "rf_pipe = Pipeline([('transformer', transformer), ('model', rf)])\n",
    "\n",
    "# Define GridSearchCV\n",
    "grid = GridSearchCV(estimator=rf_pipe, param_grid=param_grid_rf,\n",
    "                    cv=5, scoring='accuracy', refit=True)\n",
    "grid.fit(X_train, y_train)\n",
    "\n",
    "# Display the best parameters and score\n",
    "grid.best_params_, grid.best_score_, grid.best_estimator_.score(X_test, y_test)"
   ]
  },
  {
   "cell_type": "code",
   "execution_count": 80,
   "metadata": {},
   "outputs": [
    {
     "data": {
      "text/plain": [
       "<sklearn.metrics._plot.confusion_matrix.ConfusionMatrixDisplay at 0x146ee4b00>"
      ]
     },
     "execution_count": 80,
     "metadata": {},
     "output_type": "execute_result"
    },
    {
     "data": {
      "image/png": "[encoded data removed]",
      "text/plain": [
       "<Figure size 640x480 with 2 Axes>"
      ]
     },
     "metadata": {},
     "output_type": "display_data"
    }
   ],
   "source": [
    "rf2 = RandomForestClassifier(\n",
    "    class_weight='balanced', random_state=11, max_depth=10, n_estimators=50)\n",
    "rf_pipe2 = Pipeline([('transformer', transformer), ('model', rf2)])\n",
    "rf_pipe2.fit(X_train, y_train)\n",
    "\n",
    "ConfusionMatrixDisplay.from_estimator(rf_pipe2, X_test, y_test)"
   ]
  },
  {
   "cell_type": "code",
   "execution_count": 81,
   "metadata": {},
   "outputs": [
    {
     "name": "stdout",
     "output_type": "stream",
     "text": [
      "Train Score: 0.7839267285861713\n",
      "Test Score: 0.6689014956162971\n",
      "Precision Score: 0.6642204005931347\n",
      "Cross-Validation Scores: [0.68858801 0.68665377 0.69032258 0.67612903 0.67096774]\n",
      "Mean Cross-Validation Accuracy: 0.6825322268671618\n",
      "Classification Report:\n",
      "               precision    recall  f1-score   support\n",
      "\n",
      " classic_bike       0.69      0.77      0.73      1128\n",
      "electric_bike       0.62      0.52      0.57       811\n",
      "\n",
      "     accuracy                           0.67      1939\n",
      "    macro avg       0.66      0.65      0.65      1939\n",
      " weighted avg       0.66      0.67      0.66      1939\n",
      "\n"
     ]
    }
   ],
   "source": [
    "print(f'Train Score: {rf_pipe2.score(X_train, y_train)}')\n",
    "print(f'Test Score: {rf_pipe2.score(X_test, y_test)}')\n",
    "\n",
    "y_pred = rf_pipe2.predict(X_test)\n",
    "\n",
    "precision = precision_score(y_test, y_pred, average='weighted')\n",
    "print(f\"Precision Score: {precision}\")\n",
    "\n",
    "cv_scores = cross_val_score(\n",
    "    rf_pipe2, X_train, y_train, cv=5, scoring='accuracy')\n",
    "print(f\"Cross-Validation Scores: {cv_scores}\")\n",
    "print(f\"Mean Cross-Validation Accuracy: {cv_scores.mean()}\")\n",
    "\n",
    "classification = classification_report(y_test, y_pred)\n",
    "print(f\"Classification Report:\\n{classification}\")"
   ]
  },
  {
   "cell_type": "code",
   "execution_count": 82,
   "metadata": {},
   "outputs": [
    {
     "name": "stdout",
     "output_type": "stream",
     "text": [
      "                               Feature  Importance\n",
      "5           standardscaler__ride_miles    0.530199\n",
      "4         standardscaler__ride_minutes    0.423242\n",
      "0  onehotencoder__member_casual_member    0.017777\n",
      "1           onehotencoder__tod_evening    0.009914\n",
      "3             onehotencoder__tod_night    0.009612\n",
      "2           onehotencoder__tod_morning    0.009257\n"
     ]
    }
   ],
   "source": [
    "# Extract the fitted Decision Tree from the pipeline\n",
    "fitted_tree = rf_pipe2.named_steps['model']\n",
    "\n",
    "# Extract feature names from the fitted transformer\n",
    "transformer_fitted = rf_pipe2.named_steps['transformer']\n",
    "feature_names = transformer_fitted.get_feature_names_out()\n",
    "\n",
    "# Analyze feature importance\n",
    "feature_importances = fitted_tree.feature_importances_\n",
    "importance_df = pd.DataFrame({\n",
    "    'Feature': feature_names,\n",
    "    'Importance': feature_importances\n",
    "}).sort_values(by='Importance', ascending=False)\n",
    "\n",
    "print(importance_df)"
   ]
  },
  {
   "cell_type": "markdown",
   "metadata": {},
   "source": [
    "The accuracy seems to be more balanced than that of the Decision Tree - the Random Forest predicts more classic bikes correctly but at the expense of correctly predicting electric bikes. This model also has the highest scores among the ones I ran. While the recall for electric bikes is lower, the  precision score is better and more consistent across both classes. Additionally, we find that the most important features are how many miles ridden and how many minutes ridden, while the other features have importances close to 0. This suggests that there is minimal influence from features like time of day or membership type."
   ]
  },
  {
   "cell_type": "markdown",
   "metadata": {},
   "source": [
    "#### LDA Model"
   ]
  },
  {
   "cell_type": "markdown",
   "metadata": {},
   "source": [
    "I picked a LDA model as a new one to explore for this project because it can perform dimensionality reduction-unlike the other models ran-which helps simplify the data while retaining the most important features. LDA assumes a linear relationship between the features and the target, which can make it less complex but easier to interpret. Additionally, it is a simpler model that can work like a baseline to compare against more complex models like Random Forest."
   ]
  },
  {
   "cell_type": "code",
   "execution_count": 83,
   "metadata": {},
   "outputs": [
    {
     "data": {
      "text/plain": [
       "({'model__shrinkage': None, 'model__solver': 'lsqr'},\n",
       " 0.6039729622927976,\n",
       " 0.6157813305827746)"
      ]
     },
     "execution_count": 83,
     "metadata": {},
     "output_type": "execute_result"
    }
   ],
   "source": [
    "X = df.iloc[:, 1:]\n",
    "y = df['rideable_type']\n",
    "X_train, X_test, y_train, y_test = train_test_split(\n",
    "    X, y, test_size=0.2, random_state=11)\n",
    "\n",
    "param_grid_lda = {'model__solver': [\n",
    "    'lsqr', 'eigen'],  'model__shrinkage': [None, 'auto']}\n",
    "\n",
    "# Define the LDA model\n",
    "lda = LinearDiscriminantAnalysis()\n",
    "\n",
    "# Define SMOTE for balancing\n",
    "smt = SMOTE(random_state=11)\n",
    "\n",
    "# Create the pipeline with SMOTE rebalancing\n",
    "lda_pipe = ImbPipeline([('transformer', transformer),\n",
    "                       ('smote', smt), ('model', lda)])\n",
    "\n",
    "# Define GridSearchCV\n",
    "grid = GridSearchCV(estimator=lda_pipe, param_grid=param_grid_lda,\n",
    "                    cv=5, scoring='accuracy', refit=True)\n",
    "grid.fit(X_train, y_train)\n",
    "\n",
    "# Display the best parameters and score\n",
    "grid.best_params_, grid.best_score_, grid.best_estimator_.score(X_test, y_test)"
   ]
  },
  {
   "cell_type": "code",
   "execution_count": 84,
   "metadata": {},
   "outputs": [
    {
     "data": {
      "text/plain": [
       "<sklearn.metrics._plot.confusion_matrix.ConfusionMatrixDisplay at 0x1469b1520>"
      ]
     },
     "execution_count": 84,
     "metadata": {},
     "output_type": "execute_result"
    },
    {
     "data": {
      "image/png": "[encoded data removed]",
      "text/plain": [
       "<Figure size 640x480 with 2 Axes>"
      ]
     },
     "metadata": {},
     "output_type": "display_data"
    }
   ],
   "source": [
    "lda2 = LinearDiscriminantAnalysis(shrinkage=None, priors= [0.6,0.4], solver='lsqr')\n",
    "lda_pipe2 = ImbPipeline([('transformer', transformer),\n",
    "                       ('smote', smt), ('model', lda2)])\n",
    "lda_pipe2.fit(X_train, y_train)\n",
    "\n",
    "ConfusionMatrixDisplay.from_estimator(lda_pipe2, X_test, y_test)"
   ]
  },
  {
   "cell_type": "code",
   "execution_count": 85,
   "metadata": {},
   "outputs": [
    {
     "name": "stdout",
     "output_type": "stream",
     "text": [
      "Train Score: 0.6233230134158927\n",
      "Test Score: 0.6183599793708097\n",
      "Precision Score: 0.6423030084808433\n",
      "Cross-Validation Scores: [0.62282398 0.62346873 0.62129032 0.62258065 0.61870968]\n",
      "Mean Cross-Validation Accuracy: 0.6217746719078222\n",
      "Classification Report:\n",
      "               precision    recall  f1-score   support\n",
      "\n",
      " classic_bike       0.61      0.95      0.74      1128\n",
      "electric_bike       0.69      0.16      0.26       811\n",
      "\n",
      "     accuracy                           0.62      1939\n",
      "    macro avg       0.65      0.55      0.50      1939\n",
      " weighted avg       0.64      0.62      0.54      1939\n",
      "\n"
     ]
    }
   ],
   "source": [
    "print(f'Train Score: {lda_pipe2.score(X_train, y_train)}')\n",
    "print(f'Test Score: {lda_pipe2.score(X_test, y_test)}')\n",
    "\n",
    "y_pred = lda_pipe2.predict(X_test)\n",
    "\n",
    "precision = precision_score(y_test, y_pred, average='weighted')\n",
    "print(f\"Precision Score: {precision}\")\n",
    "\n",
    "cv_scores = cross_val_score(\n",
    "    lda_pipe2, X_train, y_train, cv=5, scoring='accuracy')\n",
    "print(f\"Cross-Validation Scores: {cv_scores}\")\n",
    "print(f\"Mean Cross-Validation Accuracy: {cv_scores.mean()}\")\n",
    "\n",
    "classification = classification_report(y_test, y_pred)\n",
    "print(f\"Classification Report:\\n{classification}\")"
   ]
  },
  {
   "cell_type": "markdown",
   "metadata": {},
   "source": [
    "The LDA model did a very good job of correctly identifying classic_bikes, but did a pretty horrible job of identifying electric bikes. This suggests that the linear boundaries LDA relied on were not sufficient to separate the two classes effectively, which is supported by my findings in our EDA at the beginning of this project. The overlap in feature distributions likely made it difficult for the model to maximize class separation. This indicates the features that influence bike type may have more complex or nonlinear interactions, where LDA is not the best to use."
   ]
  },
  {
   "cell_type": "markdown",
   "metadata": {},
   "source": [
    "## Next Steps & Discussion"
   ]
  },
  {
   "cell_type": "markdown",
   "metadata": {},
   "source": [
    "#### Summary of Findings"
   ]
  },
  {
   "cell_type": "markdown",
   "metadata": {},
   "source": [
    "In this analysis of CitiBike data to predict bike type chosen, the models I constructed and tested demonstrated varying levels of accuracy in predicting bike type, with overall low accuracy. The models ranked in terms of performance are as follows: Random Forest Classifier, Decision Tree Classifier, K-Nearest Neighbors, Logistic Regression, and Linear Discriminant Analysis.\n",
    "\n",
    "Key Findings:\n",
    "1) Success of Random Forest Model: The Random Forest model was the most effective, with the highest accuracy and a more balanced performance between classes as compared to other models. This model reduced overfitting and captured more complex patterns, making it better at distinguishing between classic and electric bikes.\n",
    "2) Important Features: Across all models, the distance (ride_miles) and duration (ride_minutes) of rides were the most important predictors of bike type. Other features like membership type and time of day had minimal influence on predictions.\n",
    "3) Challenges with Linear Models: The Logistic Regression and LDA models performed worse due to their reliance on linear relationships between variables. This led to weak separation between classes, especially when classifying electric bikes. These models highlighted the need for more complex models that could capture non-linear relationships in the data.\n",
    "4) Trade-Offs in Model Performance: While the Decision Tree and KNN models showed improved accuracy compared to linear models, KNN still misclassified a significant number of electric bike rides and Decision Tree perfomed better with electric bikes but at the expense of worse accuracy with classic bikes. The Decision Tree's constrained depth and KNN's reliance on local proximity limited their ability to fully capture the complexities.\n",
    "\n",
    "Conclusion:\n",
    "The Random Forest model proved to be the most accurate among the models tested, but its precision score of 0.66 highlights significant room for improvement. The relatively low accuracy suggests that the features in the dataset may not fully capture the relationships influencing bike type. We need further data exploration or additional features to better model the underlying patterns. These findings emphasize the limitations of the current dataset CitiBike provides, and gives us a starting point for future predictions."
   ]
  },
  {
   "cell_type": "markdown",
   "metadata": {},
   "source": [
    "#### Next Steps/Improvements"
   ]
  },
  {
   "cell_type": "markdown",
   "metadata": {},
   "source": [
    "\n",
    "To make the predictive capabilities of the models better and gain deeper insights into bike type prediction for CitiBike, I would want to incorporate these additional features into my models:\n",
    "\n",
    "- Weather Data:\n",
    "    - Including weather conditions during the rides, such as temperature, precipitation, and wind speed, could provide valuable insights into how external factors influence bike type usage. For example, there may be a greater preference for electric bikes on cold or rainy days.\n",
    "- User Demographics:\n",
    "    - Data on user demographics, such as age, gender, or residential neighborhood, could help us find patterns in preferences based on user characteristics. This could reveal how different user groups may have varying CitiBike preferences.\n",
    "- Traffic and Infrastructure:\n",
    "    - Data on traffic and proximity to subway stations or bus stops could point to external factors that may influence the type of bike chosen.\n",
    "- Station-Specific Data:\n",
    "    - Information about if the bike was picked up at a station that is more often a corporate hub versus residential area or tourist location may provide insight into which bike chosen. For example, if picked up from residential area and dropped at a corporate hub, that rider was potentially on the way to work and may pick an electric bike out of convenience.\n",
    "\n",
    "By incorporating some additional features into the analysis, the models could capture a broader range of potentially more important factors that influence bike type usage, leading to better accuracy and more actionable insights for CitiBike and other bike ridesharers."
   ]
  }
 ],
 "metadata": {
  "kernelspec": {
   "display_name": "base",
   "language": "python",
   "name": "python3"
  },
  "language_info": {
   "codemirror_mode": {
    "name": "ipython",
    "version": 3
   },
   "file_extension": ".py",
   "mimetype": "text/x-python",
   "name": "python",
   "nbconvert_exporter": "python",
   "pygments_lexer": "ipython3",
   "version": "3.12.2"
  }
 },
 "nbformat": 4,
 "nbformat_minor": 2
}
